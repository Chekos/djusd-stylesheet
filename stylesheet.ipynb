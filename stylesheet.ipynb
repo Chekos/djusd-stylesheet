{
 "cells": [
  {
   "cell_type": "markdown",
   "metadata": {},
   "source": [
    "<!-- Custom stylesheet, it must be in the same directory as the html file -->\n",
    "<link rel=\"stylesheet\" href=\"https://stackpath.bootstrapcdn.com/bootstrap/4.1.3/css/bootstrap.min.css\" integrity=\"sha384-MCw98/SFnGE8fJT3GXwEOngsV7Zt27NXFoaoApmYm81iuXoPkFOJwJ8ERdknLPMO\" crossorigin=\"anonymous\">\n",
    "\n",
    "<link rel=\"stylesheet\" href=\"custom.css\">\n",
    "\n",
    "  <script src=\"https://cdn.jsdelivr.net/npm/vega@4.2.0/build/vega.js\"></script>\n",
    "  <script src=\"https://cdn.jsdelivr.net/npm/vega-lite@3.0.0-rc0/build/vega-lite.js\"></script>\n",
    "  <script src=\"https://cdn.jsdelivr.net/npm/vega-embed@3.18.1/build/vega-embed.js\"></script>\n"
   ]
  },
  {
   "cell_type": "markdown",
   "metadata": {},
   "source": [
    "# 1. Colors:"
   ]
  },
  {
   "cell_type": "markdown",
   "metadata": {},
   "source": [
    "## 1.1 Website\n",
    "\n",
    "|Name | Color |\n",
    "|:----|:------:|\n",
    "|Staff Orange | <span id=\"color-tag\" style=\"background-color:#FF875C\"> #FF875C </span> |\n",
    "|Community Light Blue | <span id=\"color-tag\" style=\"background-color:#5CB7DB\"> #5CB7DB </span> |\n",
    "|Family Yellow | <span id=\"color-tag-lt\" style=\"background-color:#FEE600\"> #FEE600 </span> |\n",
    "|Student Green | <span id=\"color-tag\" style=\"background-color:#1EC884\"> #1EC884 </span> |\n",
    "|Detail Blue | <span id=\"color-tag\" style=\"background-color:#0074b2\"> #0074b2 </span> |\n",
    "|Background Blue | <span id=\"color-tag\" style=\"background-color:#1A2573\"> #1A2573 </span> |\n",
    "| DJUSD Blue | <span id=\"color-tag\" style=\"background-color:#0082C8\"> #0082C8 </span> |"
   ]
  },
  {
   "cell_type": "markdown",
   "metadata": {},
   "source": [
    "## 1.2 Schools\n",
    "#### 1.2.1 Elementary Schools\n",
    "***\n",
    "|School     | Primary color     | Secondary color   |\n",
    "|:----------|:-----------------:|:-----------------:|\n",
    "|Birch Lane |       <span id=\"color-tag\" style=\"background-color:#185594\">#185594</span>     |       <span id=\"color-tag\" style=\"background-color:#221E1F\">#221E1F</span>     |\n",
    "|Chávez     |       <span id=\"color-tag\" style=\"background-color:#A51E22\">#A51E22</span>     |       <span id=\"color-tag\" style=\"background-color:#2E2C75\">#2E2C75</span>     |\n",
    "|Fairfield  |       <span id=\"color-tag\" style=\"background-color:#4A443F\">#4A443F</span>     |       <span id=\"color-tag\" style=\"background-color:#91C5A9\">#91C5A9</span>     |\n",
    "|Korematsu  |       <span id=\"color-tag\" style=\"background-color:#15A85C\">#15A85C</span>     |       <span id=\"color-tag-lt\" style=\"background-color:#FBE721\">#FBE721</span>     |\n",
    "|Montgomery |       <span id=\"color-tag\" style=\"background-color:#E21E26\">#E21E26</span>     |       <span id=\"color-tag-lt\" style=\"background-color:#C1C1C1\">#C1C1C1</span>     |\n",
    "|North Davis|       <span id=\"color-tag\" style=\"background-color:#185594\">#185594</span>     |       <span id=\"color-tag\" style=\"background-color:#82A6D0\">#82A6D0</span>     |\n",
    "|Patwin     |       <span id=\"color-tag\" style=\"background-color:#4D3091\">#4D3091</span>     |       <span id=\"color-tag-lt\" style=\"background-color:#FFC613\">#FFC613</span>     |\n",
    "|Pioneer    |       <span id=\"color-tag\" style=\"background-color:#068945\">#068945</span>     |       <span id=\"color-tag\" style=\"background-color:#FDB416\">#FDB416</span>     |\n",
    "|Willet     |       <span id=\"color-tag\" style=\"background-color:#1C4421\">#1C4421</span>     |       <span id=\"color-tag-lt\" style=\"background-color:#A6D8C3\">#A6D8C3</span>     |"
   ]
  },
  {
   "cell_type": "markdown",
   "metadata": {},
   "source": [
    "#### 1.2.2 Junior High Schools\n",
    "***\n",
    "|School     | Primary color     | Secondary color   |\n",
    "|:----------|:-----------------:|:-----------------:|\n",
    "|Da Vinci   |       <span id=\"color-tag\" style=\"background-color:#9C1C1F\">#9C1C1F</span>     |       <span id=\"color-tag\" style=\"background-color:#221E1F\">#221E1F</span>     |\n",
    "|Emerson    |       <span id=\"color-tag-lt\" style=\"background-color:#FDB415\">#FDB415</span>     |       <span id=\"color-tag\" style=\"background-color:#231F20\">#231F20</span>     |\n",
    "|Harper     |       <span id=\"color-tag\" style=\"background-color:#572E8A\">#572E8A</span>     |       <span id=\"color-tag-lt\" style=\"background-color:#939598\">#939598</span>     |\n",
    "|Holmes     |       <span id=\"color-tag\" style=\"background-color:#3A98B5\">#3A98B5</span>     |       <span id=\"color-tag\" style=\"background-color:#002060\">#002060</span>     |"
   ]
  },
  {
   "cell_type": "markdown",
   "metadata": {},
   "source": [
    "#### 1.2.3 High Schools\n",
    "***\n",
    "|School     | Primary color     | Secondary color   |\n",
    "|:----------|:-----------------:|:-----------------:|\n",
    "|Da Vinci   |       <span id=\"color-tag\" style=\"background-color:#125D3C\">#125D3C</span>     |       <span id=\"color-tag-lt\" style=\"background-color:#B2B7BB\">#B2B7BB</span>     |\n",
    "|Davis Senior|       <span id=\"color-tag\" style=\"background-color:#2C318B\">#2C318B</span>     |      <span id=\"color-tag\" style=\"background-color:#142E54\"> #142E54</span>     |\n",
    "|King       |       <span id=\"color-tag\" style=\"background-color:#7E324D\">#7E324D</span>     |       <span id=\"color-tag-lt\" style=\"background-color:#E7E7E8\">#E7E7E8</span>     |\n",
    "|Independent|       <span id=\"color-tag\" style=\"background-color:#068945\">#068945</span>     |       <span id=\"color-tag\" style=\"background-color:#211C53\">#211C53</span>     |"
   ]
  },
  {
   "cell_type": "markdown",
   "metadata": {},
   "source": [
    "#### 1.2.4 Other\n",
    "***\n",
    "|School     | Primary color     | Secondary color   |\n",
    "|:----------|:-----------------:|:-----------------:|\n",
    "|Davis Adult|       <span id=\"color-tag\" style=\"background-color:#5C873C\">#5C873C</span>     |       <span id=\"color-tag\" style=\"background-color:#1B3865\">#1B3865</span>     |\n",
    "|Children's Center|       <span id=\"color-tag\" style=\"background-color:#0E76BC\">#0E76BC</span>     |       <span id=\"color-tag\" style=\"background-color:#62C7C2\">#62C7C2</span>     |"
   ]
  },
  {
   "cell_type": "markdown",
   "metadata": {},
   "source": [
    "# 2. Examples"
   ]
  },
  {
   "cell_type": "code",
   "execution_count": 4,
   "metadata": {},
   "outputs": [],
   "source": [
    "import altair as alt\n",
    "import pandas as pd"
   ]
  },
  {
   "cell_type": "code",
   "execution_count": 86,
   "metadata": {},
   "outputs": [],
   "source": [
    "data = pd.DataFrame({\n",
    "    'school': ['Birch Lane', 'Chávez', 'Fairfield', 'Korematsu', 'Montgomery', 'North Davis', 'Patwin', 'Pioneer', 'Willet'],\n",
    "    'value': [28, 55, 43, 91, 81, 53, 19, 87, 52]\n",
    "})\n",
    "\n",
    "colors = alt.Scale(domain=['Birch Lane', 'Chávez', 'Fairfield', 'Korematsu', 'Montgomery', 'North Davis', 'Patwin', 'Pioneer', 'Willet'],\n",
    "                  range=['#185594', '#A51E22', '#4A443F', '#15A85C', '#E21E26', '#185594', '#4D3091', '#068945', '#1C4421'])\n",
    "chart = alt.Chart(data).mark_bar().encode(\n",
    "    x='school',\n",
    "    y='value',\n",
    "    color = alt.Color('school', scale = colors, legend = alt.Legend(title = 'School')),\n",
    "    tooltip = ['value', 'school']\n",
    ").properties(\n",
    "    title = 'Bar Chart Example',\n",
    "#     height = 400,\n",
    "#     width = 600,\n",
    ")"
   ]
  },
  {
   "cell_type": "code",
   "execution_count": 87,
   "metadata": {},
   "outputs": [],
   "source": [
    "def djusd_style():\n",
    "    return {\n",
    "        \"width\": 600,\n",
    "        \"height\": 400,\n",
    "        \"background\": \"white\",\n",
    "        'config': {\n",
    "            'view': {\n",
    "                \"height\": 400,\n",
    "                \"width\": 600,\n",
    "                \"background\": \"white\",\n",
    "                \"stroke\": None,\n",
    "            },\n",
    "            \"title\": {\n",
    "                \"offset\": 20,\n",
    "                \"fontSize\": 18,\n",
    "                \"fontColor\": \"#282828\",\n",
    "                \"font\": \"helvetica\",\n",
    "                \"anchor\": \"start\",\n",
    "            },\n",
    "            \"legend\": {\n",
    "                \"padding\": 10,\n",
    "#                 \"legendStrokeColor\": \"#000000\",\n",
    "#                 \"legendStrokeWidth\": 10,\n",
    "                \"titleFontSize\": 11,\n",
    "                \"titleFont\": \"helvetica\",\n",
    "            },\n",
    "            \"axis\": {\n",
    "                \"labelColor\": \"#282828\",\n",
    "                \"titleFont\": \"helvetica\",\n",
    "                \"titleColor\": \"#282828\",             \n",
    "            },\n",
    "            \"mark\": {\n",
    "                \"opacity\": 0.95,\n",
    "            },\n",
    "            \"axisY\": {\n",
    "                \"grid\": False,\n",
    "                \"labelPadding\": 5,\n",
    "                \"titleAngle\": 0,\n",
    "                \"titlePadding\": 18,\n",
    "                \"titleFontSize\": 16,\n",
    "                \"titleFont\": \"helvetica\"\n",
    "#                 \"titleX\": -60,\n",
    "#                 \"titleY\": 50,\n",
    "            },\n",
    "            \"axisX\": {\n",
    "                \"title\": \" \",\n",
    "                \"labelAngle\": 0,\n",
    "                \"labelPadding\": 0,\n",
    "            }\n",
    "        }\n",
    "    }"
   ]
  },
  {
   "cell_type": "code",
   "execution_count": null,
   "metadata": {},
   "outputs": [],
   "source": [
    "# register the custom theme under a chosen name\n",
    "alt.themes.register('djusd_style', djusd_style)\n",
    "\n",
    "# enable the newly registered theme\n",
    "alt.themes.enable('djusd_style')"
   ]
  },
  {
   "cell_type": "code",
   "execution_count": 88,
   "metadata": {},
   "outputs": [],
   "source": [
    "chart.savechart(fp =  'examples/images/bar_example.html')\n",
    "#chart"
   ]
  },
  {
   "cell_type": "code",
   "execution_count": 89,
   "metadata": {},
   "outputs": [
    {
     "data": {
      "text/html": [
       "<iframe src = 'examples/images/bar_example.html' width = 850 height = 550 frameborder = 0></iframe>"
      ],
      "text/plain": [
       "<IPython.core.display.HTML object>"
      ]
     },
     "metadata": {},
     "output_type": "display_data"
    }
   ],
   "source": [
    "%%html\n",
    "<iframe src = 'examples/images/bar_example.html' width = 850 height = 550 frameborder = 0></iframe>"
   ]
  },
  {
   "cell_type": "markdown",
   "metadata": {},
   "source": [
    "#### Notes:\n",
    "\n",
    "1. Image\n",
    "    - height: 400px\n",
    "    - width: 600px\n",
    "    \n",
    "    \n",
    "2. Title\n",
    "    - Anchored on the left.\n",
    "    - Font size: 18\n",
    "    - Font color: #282828\n",
    "    - Font: Montserrat\n",
    "    - Offset 20 pixes above Y-axis.\n",
    "    \n",
    "    \n",
    "3. Chart\n",
    "    - background: white (not null!)\n",
    "    - stroke: None\n",
    "    \n",
    "    \n",
    "4. Legend\n",
    "    - Title: X-axis variable name TitleCased\n",
    "    - Title font size: 11\n",
    "    - Title font: Montserrat\n",
    "    - padding: 10px\n",
    "    \n",
    "    \n",
    "5. Axes\n",
    "    - Label color: #282828\n",
    "    - Title color: #282828\n",
    "    - X-Axis\n",
    "        - No title\n",
    "        - Label angle: 0 (horizontal)\n",
    "        - label padding: 0\n",
    "        - no grid\n",
    "    - Y-Axis\n",
    "        - Label padding: 5px\n",
    "        - Title angle: 0 (horizontal)\n",
    "        - Title padding: 18px\n",
    "        - Title font size: 16\n",
    "        - Title font: Montserrat"
   ]
  }
 ],
 "metadata": {
  "kernelspec": {
   "display_name": "Python 3",
   "language": "python",
   "name": "python3"
  },
  "language_info": {
   "codemirror_mode": {
    "name": "ipython",
    "version": 3
   },
   "file_extension": ".py",
   "mimetype": "text/x-python",
   "name": "python",
   "nbconvert_exporter": "python",
   "pygments_lexer": "ipython3",
   "version": "3.6.3"
  }
 },
 "nbformat": 4,
 "nbformat_minor": 2
}
